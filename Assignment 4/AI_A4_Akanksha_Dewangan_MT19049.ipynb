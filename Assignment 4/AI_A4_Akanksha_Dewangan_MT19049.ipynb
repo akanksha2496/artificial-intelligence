{
  "nbformat": 4,
  "nbformat_minor": 0,
  "metadata": {
    "colab": {
      "name": "AI_A4_Akanksha_Dewangan_MT19049.ipynb",
      "provenance": [],
      "collapsed_sections": []
    },
    "kernelspec": {
      "name": "python3",
      "display_name": "Python 3"
    }
  },
  "cells": [
    {
      "cell_type": "markdown",
      "metadata": {
        "id": "X0Rv33tf4156"
      },
      "source": [
        "Liberaries used:"
      ]
    },
    {
      "cell_type": "code",
      "metadata": {
        "colab": {
          "base_uri": "https://localhost:8080/"
        },
        "id": "ofcjp4ULuxkg",
        "outputId": "c25bd3c6-0540-473a-fa35-0e84f0905678"
      },
      "source": [
        "import nltk\n",
        "nltk.download('punkt')"
      ],
      "execution_count": 11,
      "outputs": [
        {
          "output_type": "stream",
          "text": [
            "[nltk_data] Downloading package punkt to /root/nltk_data...\n",
            "[nltk_data]   Package punkt is already up-to-date!\n"
          ],
          "name": "stdout"
        },
        {
          "output_type": "execute_result",
          "data": {
            "text/plain": [
              "True"
            ]
          },
          "metadata": {
            "tags": []
          },
          "execution_count": 11
        }
      ]
    },
    {
      "cell_type": "code",
      "metadata": {
        "id": "07IyxZqwpaJC"
      },
      "source": [
        "import nltk\n",
        "from nltk.tokenize import word_tokenize\n",
        "from nltk.stem import PorterStemmer\n",
        "import re"
      ],
      "execution_count": 12,
      "outputs": []
    },
    {
      "cell_type": "markdown",
      "metadata": {
        "id": "hnyoLeFY45Ee"
      },
      "source": [
        "Preprocessing:"
      ]
    },
    {
      "cell_type": "code",
      "metadata": {
        "id": "j41Ir0kxFwXh"
      },
      "source": [
        "def take_inputs(que):\n",
        "  inplist2 = []\n",
        "  inp2 = input(que)\n",
        "  inp2 = re.sub(r'[^\\w\\s]', '', inp2) \n",
        "  tok2 = word_tokenize(inp2)\n",
        "  tok2=[token.lower() for token in tok2]\n",
        "  ps = PorterStemmer()\n",
        "  for wod in tok2:\n",
        "      stem1 = ps.stem(wod)\n",
        "      inplist2.append(stem1)\n",
        "  return inplist2\n",
        "  "
      ],
      "execution_count": 13,
      "outputs": []
    },
    {
      "cell_type": "code",
      "metadata": {
        "id": "x6dH4aHTd-yp"
      },
      "source": [
        "def take_digit(str):\n",
        "  inp2 = input(str)\n",
        "  return [int(s) for s in inp2.split() if s.isdigit()]\n"
      ],
      "execution_count": 14,
      "outputs": []
    },
    {
      "cell_type": "markdown",
      "metadata": {
        "id": "KFFceltx49MV"
      },
      "source": [
        "Question answer interface:"
      ]
    },
    {
      "cell_type": "code",
      "metadata": {
        "colab": {
          "base_uri": "https://localhost:8080/"
        },
        "id": "nT9YLy1Buihr",
        "outputId": "3f66abd5-2d17-4518-c5e4-4d8adb15fa45"
      },
      "source": [
        "f = open(\"output.txt\", 'w')\n",
        "\n",
        "inp=take_inputs(\"would you like to do job or heigher_studies? 1)not_heigher_studies 2)heigher_studies \")\n",
        "\n",
        "\n",
        "if \"not_heigher_studi\" in inp:\n",
        "    f.write(\"heigher_studies(no).\\n\")\n",
        "    f.write(\"give_which_eaxm(not_intrested).\\n\")\n",
        "    inp=take_inputs(\"Are you intreseted in buisness?? 1)yes 2)no \")\n",
        "    if \"no\" in inp:\n",
        "         f.write(\"buisness(no).\\n\")            \n",
        "         inp=take_inputs(\"Are you intrested in coding ?' 1)yes 2)no \")\n",
        "         if \"ye\" in inp:\n",
        "            f.write(\"code(yes).\\n\")         \n",
        "            inp=take_inputs(\"did you have problem solving approach?? 1)yes 2)no \")\n",
        "            if \"ye\" in inp:\n",
        "              f.write(\"problem_solving(yes).\\n\")\n",
        "            else:\n",
        "              f.write(\"problem_solving(no).\\n\") \n",
        "            inp=take_inputs(\"Are you good in aptitude?? 1)yes 2)no \")\n",
        "            if \"ye\" in inp:\n",
        "                f.write(\"aptitude(yes).\\n\")\n",
        "            else:\n",
        "                f.write(\"aptitude(no).\\n\")\n",
        "            inp=take_inputs(\"'Are you a logical thinker?' 1)yes 2)no \")\n",
        "            if \"ye\" in inp:\n",
        "              f.write(\"logical_thinking(yes).\\n\") \n",
        "            else:\n",
        "              f.write(\"logical_thinking(no).\\n\")\n",
        "            inp=take_inputs(\"'Hows your management skill , can you able to manage and organise the things properly ?' 1)yes 2)no \")\n",
        "            if \"ye\" in inp:\n",
        "              f.write(\"management_skill(yes).\\n\") \n",
        "            else:\n",
        "              f.write(\"management_skill(no).\\n\") \n",
        "            inp=take_inputs(\"Whats your financial condition ?' 1)weak 2)strong 3)medium \")\n",
        "            if \"weak\" in inp:\n",
        "              f.write(\"financial(weak).\\n\")\n",
        "            elif \"medium\" in inp:\n",
        "              f.write(\"financial(medium).\\n\")\n",
        "            else:\n",
        "              f.write(\"financial(strong).\\n\")\n",
        "            inp=take_inputs(\"Are you project oriented ?' 1)yes 2)no \")\n",
        "            if \"ye\" in inp:\n",
        "                f.write(\"project_oriented(yes).\\n\")\n",
        "            else:\n",
        "                f.write(\"project_oriented(no).\\n\")\n",
        "         else:\n",
        "            f.write(\"code(no).\\n\")\n",
        "            inp=take_inputs(\"Are you phyically fit and have kind a sports-man spirit ? ?' 1)very_strong 2)fit \")\n",
        "\n",
        "            if \"very_strong\" in inp:\n",
        "              f.write(\"physical(very_strong).\\n\")\n",
        "              inp=take_inputs(\"'Would you like to help common people and feel good to serve them as your duty?' 1)yes 2)no \")\n",
        "              if \"ye\" in inp:\n",
        "                f.write(\"serving_people(yes).\\n\")\n",
        "              else:\n",
        "                f.write(\" serving_people(no).\\n\")\n",
        "              inp=take_inputs(\"Whats your financial condition ?' 1)weak 2)strong 3)medium \")\n",
        "              if \"weak\" in inp:\n",
        "                f.write(\"financial(weak).\\n\")\n",
        "              elif \"medium\" in inp:\n",
        "                f.write(\"financial(medium).\\n\")\n",
        "              else:\n",
        "                f.write(\"financial(strong).\\n\") \n",
        "              inp=take_inputs(\"Can you able to adapt the changes around you in terms of cultures and peoples ? 1)yes 2)no \")\n",
        "              if \"ye\" in inp:\n",
        "                f.write(\"adaptibility(yes).\\n\")\n",
        "              else:\n",
        "                f.write(\"adaptibility(no).\\n\")          \n",
        "              inp=take_inputs(\"did you have leadership quality?' 1)yes 2)no \")\n",
        "              if \"ye\" in inp:\n",
        "                f.write(\"leadership(yes).\\n\")\n",
        "              else:\n",
        "                f.write(\"leadership(no).\\n\")\n",
        "            else:\n",
        "              f.write(\"physical(fit).\\n\")\n",
        "              inp=take_inputs(\"did you have problem solving approach?? 1)yes 2)no \")\n",
        "              if \"ye\" in inp:\n",
        "                f.write(\"problem_solving(yes).\\n\")\n",
        "              else:\n",
        "                f.write(\"problem_solving(no).\\n\")\n",
        "              inp=take_inputs(\"Are you good in aptitude?? 1)yes 2)no \")\n",
        "              if \"ye\" in inp:\n",
        "                f.write(\"aptitude(yes).\\n\")\n",
        "              else:\n",
        "                f.write(\"aptitude(no).\\n\")\n",
        "              inp=take_inputs(\"'Are you a logical thinker?' 1)yes 2)no \")\n",
        "              if \"ye\" in inp:\n",
        "                f.write(\"logical_thinking(yes).\\n\") \n",
        "              else:\n",
        "                f.write(\"logical_thinking(no).\\n\")\n",
        "              inp=take_inputs(\"Are you project oriented ?' 1)yes 2)no \")\n",
        "              if \"ye\" in inp:\n",
        "                f.write(\"project_oriented(yes).\\n\")\n",
        "              else:\n",
        "                f.write(\"project_oriented(no).\\n\")\n",
        "              inp=take_inputs(\"'Would you like to help common people and feel good to serve them as your duty?' 1)yes 2)no \")\n",
        "              if \"ye\" in inp:\n",
        "                f.write(\"serving_people(yes).\\n\")\n",
        "              else:\n",
        "                f.write(\" serving_people(no).\\n\")\n",
        "              inp=take_inputs(\"Whats your financial condition ?' 1)weak 2)strong 3)medium \")\n",
        "              if \"weak\" in inp:\n",
        "                f.write(\"financial(weak).\\n\")\n",
        "              elif \"medium\" in inp:\n",
        "                f.write(\"financial(medium).\\n\")\n",
        "              else:\n",
        "                f.write(\"financial(strong).\\n\") \n",
        "              inp=take_inputs(\"'Hows your management skill , can you able to manage and organise the things properly ?' 1)yes 2)no \")\n",
        "              if \"ye\" in inp:\n",
        "                f.write(\"management_skill(yes).\\n\") \n",
        "              else:\n",
        "                f.write(\"management_skill(no).\\n\") \n",
        "              \n",
        "    else:\n",
        "         f.write(\"buisness(yes).\\n\")  \n",
        "         f.write(\"give_which_eaxm(not_intrested).\\n\") \n",
        "         inp=take_inputs(\"Whats your financial condition ?' 1)weak 2)strong 3)medium \")\n",
        "         if \"weak\" in inp:\n",
        "            f.write(\"financial(weak).\\n\")\n",
        "         elif \"medium\" in inp:\n",
        "            f.write(\"financial(medium).\\n\")\n",
        "         else:\n",
        "            f.write(\"financial(strong).\\n\")\n",
        "         inp=take_inputs(\"Did you like to inteact with peoples ?(yes/no) \")\n",
        "         if \"ye\" in inp:\n",
        "            f.write(\"intreact(yes).\\n\")\n",
        "         else:\n",
        "            f.write(\"intreact(no).\\n\")\n",
        "         inp=take_inputs(\"Can you able to think of an innovation or having thought of new ideas  ?(can/can't)\")\n",
        "         if (\"can\" in inp) and (\"ye\" in inp):\n",
        "              f.write(\"idea(can).\\n\")\n",
        "         else:\n",
        "              f.write(\"idea(can_not).\\n\")\n",
        "         inp=take_inputs(\"did you have leadership quality?(yes/no) \")\n",
        "         if \"ye\" in inp:\n",
        "              f.write(\"leadership(yes).\\n\")\n",
        "         else:\n",
        "              f.write(\"leadership(no).\\n\")\n",
        "         inp=take_inputs(\"Are you mentally strong to take risk ?(can/can't) \")\n",
        "         if (\"can\" in inp) and (\"ye\" in inp):\n",
        "              f.write(\"risk(can).\\n\")\n",
        "         else:\n",
        "              f.write(\"risk(can_not).\\n\")\n",
        "\n",
        "          \n",
        "\n",
        "if \"heigher_studi\" in inp:\n",
        "         f.write(\"heigher_studies(yes).\\n\")\n",
        "         inp=take_inputs(\"did you have problem solving approach?(yes/no)\")\n",
        "         if \"ye\" in inp:\n",
        "          f.write(\"problem_solving(yes).\\n\")\n",
        "         else:\n",
        "          f.write(\"problem_solving(no).\\n\")\n",
        "         inp=take_digit(\"What is your B.tech percentage in numbers? \")\n",
        "         print(inp)\n",
        "         if inp[0]>=80:\n",
        "          f.write(\"marks(yes).\\n\")\n",
        "         else:\n",
        "          f.write(\"marks(no).\\n\") \n",
        "         inp=take_inputs(\"Are you good in aptitude?(yes/no)\")\n",
        "         if \"ye\" in inp:\n",
        "              f.write(\"aptitude(yes).\\n\")\n",
        "         else:\n",
        "              f.write(\"aptitude(no).\\n\")\n",
        "         inp=take_inputs(\"Are you a logical thinker?(yes/no)\")\n",
        "         if \"ye\" in inp:\n",
        "            f.write(\"logical_thinking(yes).\\n\") \n",
        "         else:\n",
        "            f.write(\"logical_thinking(no).\\n\")\n",
        "         inp=take_inputs(\"Are you intrested in research?(yes/no)\")\n",
        "         if \"ye\" in inp:\n",
        "            f.write(\"research(yes).\\n\") \n",
        "         else:\n",
        "            f.write(\"research(no).\\n\") \n",
        "         inp=take_inputs(\"Whats your financial condition ?(weak/strong/medium)\")\n",
        "         if \"weak\" in inp:\n",
        "            f.write(\"financial(weak).\\n\")\n",
        "         elif \"medium\" in inp:\n",
        "            f.write(\"financial(medium).\\n\")\n",
        "         else:\n",
        "            f.write(\"financial(strong).\\n\")\n",
        "         inp=take_inputs(\"Are you intrested in coding ?(yes/no)\")\n",
        "         if \"ye\" in inp:\n",
        "            f.write(\"code(yes).\\n\")\n",
        "         else:\n",
        "            f.write(\"code(no).\\n\")\n",
        "         inp=take_inputs(\"Are you project oriented ?(yes/no)\")\n",
        "         if \"ye\" in inp:\n",
        "              f.write(\"project_oriented(yes).\\n\")\n",
        "         else:\n",
        "              f.write(\"project_oriented(no).\\n\")\n",
        "         inp=take_inputs(\"Which exam do you like to give ?(CAT/GATE/GRE)\")\n",
        "         if \"cat\" in inp:\n",
        "              f.write(\"give_which_eaxm(cat).\\n\")\n",
        "         elif \"gate\" in inp:\n",
        "              f.write(\"give_which_eaxm(gate).\\n\") \n",
        "         elif \"gre\" in inp:\n",
        "              f.write(\"give_which_eaxm(gre).\\n\") \n",
        "\n",
        "\n",
        "\n",
        "inp=take_inputs(\"would you like to make your hobby as a carrier?(yes/no)\")\n",
        "\n",
        "if \"ye\" in inp:\n",
        "\n",
        "  f.write(\"hobbies(yes).\\n\")\n",
        "else:\n",
        "  f.write(\"hobbies(no).\\n\") \n",
        "                        \n",
        "\n",
        "f.close()"
      ],
      "execution_count": 15,
      "outputs": [
        {
          "output_type": "stream",
          "text": [
            "would you like to do job or heigher_studies? 1)not_heigher_studies 2)heigher_studies not_heigher_studies\n",
            "Are you intreseted in buisness?? 1)yes 2)no no\n",
            "Are you intrested in coding ?' 1)yes 2)no not that much only little\n",
            "Are you phyically fit and have kind a sports-man spirit ? ?' 1)very_strong 2)fit i can say very strong\n",
            "did you have problem solving approach?? 1)yes 2)no no not that much\n",
            "Are you good in aptitude?? 1)yes 2)no no not sure\n",
            "'Are you a logical thinker?' 1)yes 2)no no i am not actually\n",
            "Are you project oriented ?' 1)yes 2)no no not that much\n",
            "'Would you like to help common people and feel good to serve them as your duty?' 1)yes 2)no yes i like the intreaction\n",
            "Whats your financial condition ?' 1)weak 2)strong 3)medium medium\n",
            "'Hows your management skill , can you able to manage and organise the things properly ?' 1)yes 2)no yes i can manage the trhings\n",
            "would you like to make your hobby as a carrier?(yes/no)no i dont have as such hobby which make money for me h :)\n"
          ],
          "name": "stdout"
        }
      ]
    },
    {
      "cell_type": "code",
      "metadata": {
        "id": "ko2DkWE7wMea"
      },
      "source": [
        ""
      ],
      "execution_count": 15,
      "outputs": []
    }
  ]
}