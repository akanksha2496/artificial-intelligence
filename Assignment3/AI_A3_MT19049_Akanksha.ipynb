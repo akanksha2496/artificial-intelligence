{
  "nbformat": 4,
  "nbformat_minor": 0,
  "metadata": {
    "colab": {
      "name": "AI_A3_MT19049_Akanksha.ipynb",
      "provenance": [],
      "collapsed_sections": []
    },
    "kernelspec": {
      "name": "python3",
      "display_name": "Python 3"
    }
  },
  "cells": [
    {
      "cell_type": "markdown",
      "metadata": {
        "id": "oU0dHXRSjd_x"
      },
      "source": [
        "**Import all the liberaries**"
      ]
    },
    {
      "cell_type": "code",
      "metadata": {
        "colab": {
          "base_uri": "https://localhost:8080/"
        },
        "id": "7_HawriojGXW",
        "outputId": "791d276e-fbe4-4083-d910-f0267c2b37ca"
      },
      "source": [
        "pip install scikit-plot"
      ],
      "execution_count": 30,
      "outputs": [
        {
          "output_type": "stream",
          "text": [
            "Requirement already satisfied: scikit-plot in /usr/local/lib/python3.6/dist-packages (0.3.7)\n",
            "Requirement already satisfied: scikit-learn>=0.18 in /usr/local/lib/python3.6/dist-packages (from scikit-plot) (0.22.2.post1)\n",
            "Requirement already satisfied: joblib>=0.10 in /usr/local/lib/python3.6/dist-packages (from scikit-plot) (0.17.0)\n",
            "Requirement already satisfied: scipy>=0.9 in /usr/local/lib/python3.6/dist-packages (from scikit-plot) (1.4.1)\n",
            "Requirement already satisfied: matplotlib>=1.4.0 in /usr/local/lib/python3.6/dist-packages (from scikit-plot) (3.2.2)\n",
            "Requirement already satisfied: numpy>=1.11.0 in /usr/local/lib/python3.6/dist-packages (from scikit-learn>=0.18->scikit-plot) (1.18.5)\n",
            "Requirement already satisfied: pyparsing!=2.0.4,!=2.1.2,!=2.1.6,>=2.0.1 in /usr/local/lib/python3.6/dist-packages (from matplotlib>=1.4.0->scikit-plot) (2.4.7)\n",
            "Requirement already satisfied: cycler>=0.10 in /usr/local/lib/python3.6/dist-packages (from matplotlib>=1.4.0->scikit-plot) (0.10.0)\n",
            "Requirement already satisfied: python-dateutil>=2.1 in /usr/local/lib/python3.6/dist-packages (from matplotlib>=1.4.0->scikit-plot) (2.8.1)\n",
            "Requirement already satisfied: kiwisolver>=1.0.1 in /usr/local/lib/python3.6/dist-packages (from matplotlib>=1.4.0->scikit-plot) (1.3.1)\n",
            "Requirement already satisfied: six in /usr/local/lib/python3.6/dist-packages (from cycler>=0.10->matplotlib>=1.4.0->scikit-plot) (1.15.0)\n"
          ],
          "name": "stdout"
        }
      ]
    },
    {
      "cell_type": "code",
      "metadata": {
        "id": "PY1TkbccWque"
      },
      "source": [
        "\n",
        "import scikitplot as skplt\n",
        "import pandas as pd\n",
        "import matplotlib.pyplot as plt \n",
        "import seaborn as sns\n",
        "from sklearn.preprocessing import MinMaxScaler\n",
        "from sklearn.feature_selection import SelectKBest\n",
        "from sklearn.feature_selection import chi2,f_regression\n",
        "from sklearn.model_selection import train_test_split\n",
        "import numpy as np\n",
        "import math\n",
        "from sklearn.metrics import confusion_matrix\n",
        "from sklearn.linear_model import LogisticRegression\n",
        "from sklearn.model_selection import cross_val_score\n",
        "from sklearn.metrics import accuracy_score\n",
        "from sklearn.model_selection import GridSearchCV\n",
        "from sklearn.linear_model import LogisticRegression"
      ],
      "execution_count": 31,
      "outputs": []
    },
    {
      "cell_type": "markdown",
      "metadata": {
        "id": "045b0gS6jnvs"
      },
      "source": [
        "**Load dataset**"
      ]
    },
    {
      "cell_type": "code",
      "metadata": {
        "id": "PwmnIDFEXGO0"
      },
      "source": [
        "df=pd.read_excel('Akanksha Dewangan - Data for AI-Assignment-3.xlsx')  "
      ],
      "execution_count": 32,
      "outputs": []
    },
    {
      "cell_type": "markdown",
      "metadata": {
        "id": "2vfRnsI7kAEB"
      },
      "source": [
        "**1.Preprocessing and Analysis**"
      ]
    },
    {
      "cell_type": "code",
      "metadata": {
        "id": "RaQpg1g2XUm2",
        "colab": {
          "base_uri": "https://localhost:8080/",
          "height": 303
        },
        "outputId": "b868ce6c-9c0e-44e3-9cc0-48b6d5ee7766"
      },
      "source": [
        "df.head(4)"
      ],
      "execution_count": 33,
      "outputs": [
        {
          "output_type": "execute_result",
          "data": {
            "text/html": [
              "<div>\n",
              "<style scoped>\n",
              "    .dataframe tbody tr th:only-of-type {\n",
              "        vertical-align: middle;\n",
              "    }\n",
              "\n",
              "    .dataframe tbody tr th {\n",
              "        vertical-align: top;\n",
              "    }\n",
              "\n",
              "    .dataframe thead th {\n",
              "        text-align: right;\n",
              "    }\n",
              "</style>\n",
              "<table border=\"1\" class=\"dataframe\">\n",
              "  <thead>\n",
              "    <tr style=\"text-align: right;\">\n",
              "      <th></th>\n",
              "      <th>ID</th>\n",
              "      <th>Gender</th>\n",
              "      <th>DOB</th>\n",
              "      <th>10percentage</th>\n",
              "      <th>10board</th>\n",
              "      <th>12graduation</th>\n",
              "      <th>12percentage</th>\n",
              "      <th>12board</th>\n",
              "      <th>CollegeID</th>\n",
              "      <th>CollegeTier</th>\n",
              "      <th>Degree</th>\n",
              "      <th>Specialization</th>\n",
              "      <th>collegeGPA</th>\n",
              "      <th>CollegeCityID</th>\n",
              "      <th>CollegeCityTier</th>\n",
              "      <th>CollegeState</th>\n",
              "      <th>GraduationYear</th>\n",
              "      <th>English</th>\n",
              "      <th>Logical</th>\n",
              "      <th>Quant</th>\n",
              "      <th>Domain</th>\n",
              "      <th>ComputerProgramming</th>\n",
              "      <th>ElectronicsAndSemicon</th>\n",
              "      <th>ComputerScience</th>\n",
              "      <th>MechanicalEngg</th>\n",
              "      <th>ElectricalEngg</th>\n",
              "      <th>TelecomEngg</th>\n",
              "      <th>CivilEngg</th>\n",
              "      <th>conscientiousness</th>\n",
              "      <th>agreeableness</th>\n",
              "      <th>extraversion</th>\n",
              "      <th>nueroticism</th>\n",
              "      <th>openess_to_experience</th>\n",
              "      <th>High-Salary</th>\n",
              "    </tr>\n",
              "  </thead>\n",
              "  <tbody>\n",
              "    <tr>\n",
              "      <th>0</th>\n",
              "      <td>203097</td>\n",
              "      <td>f</td>\n",
              "      <td>1990-02-19</td>\n",
              "      <td>84.3</td>\n",
              "      <td>board ofsecondary education,ap</td>\n",
              "      <td>2007</td>\n",
              "      <td>95.8</td>\n",
              "      <td>board of intermediate education,ap</td>\n",
              "      <td>1141</td>\n",
              "      <td>2</td>\n",
              "      <td>B.Tech/B.E.</td>\n",
              "      <td>computer engineering</td>\n",
              "      <td>78.00</td>\n",
              "      <td>1141</td>\n",
              "      <td>0</td>\n",
              "      <td>Andhra Pradesh</td>\n",
              "      <td>2011</td>\n",
              "      <td>515</td>\n",
              "      <td>585</td>\n",
              "      <td>525</td>\n",
              "      <td>0.635979</td>\n",
              "      <td>445</td>\n",
              "      <td>-1</td>\n",
              "      <td>-1</td>\n",
              "      <td>-1</td>\n",
              "      <td>-1</td>\n",
              "      <td>-1</td>\n",
              "      <td>-1</td>\n",
              "      <td>0.9737</td>\n",
              "      <td>0.8128</td>\n",
              "      <td>0.5269</td>\n",
              "      <td>1.3549</td>\n",
              "      <td>-0.4455</td>\n",
              "      <td>1</td>\n",
              "    </tr>\n",
              "    <tr>\n",
              "      <th>1</th>\n",
              "      <td>579905</td>\n",
              "      <td>m</td>\n",
              "      <td>1989-10-04</td>\n",
              "      <td>85.4</td>\n",
              "      <td>cbse</td>\n",
              "      <td>2007</td>\n",
              "      <td>85.0</td>\n",
              "      <td>cbse</td>\n",
              "      <td>5807</td>\n",
              "      <td>2</td>\n",
              "      <td>B.Tech/B.E.</td>\n",
              "      <td>electronics and communication engineering</td>\n",
              "      <td>70.06</td>\n",
              "      <td>5807</td>\n",
              "      <td>0</td>\n",
              "      <td>Madhya Pradesh</td>\n",
              "      <td>2012</td>\n",
              "      <td>695</td>\n",
              "      <td>610</td>\n",
              "      <td>780</td>\n",
              "      <td>0.960603</td>\n",
              "      <td>-1</td>\n",
              "      <td>466</td>\n",
              "      <td>-1</td>\n",
              "      <td>-1</td>\n",
              "      <td>-1</td>\n",
              "      <td>-1</td>\n",
              "      <td>-1</td>\n",
              "      <td>-0.7335</td>\n",
              "      <td>0.3789</td>\n",
              "      <td>1.2396</td>\n",
              "      <td>-0.1076</td>\n",
              "      <td>0.8637</td>\n",
              "      <td>1</td>\n",
              "    </tr>\n",
              "    <tr>\n",
              "      <th>2</th>\n",
              "      <td>810601</td>\n",
              "      <td>f</td>\n",
              "      <td>1992-08-03</td>\n",
              "      <td>85.0</td>\n",
              "      <td>cbse</td>\n",
              "      <td>2010</td>\n",
              "      <td>68.2</td>\n",
              "      <td>cbse</td>\n",
              "      <td>64</td>\n",
              "      <td>2</td>\n",
              "      <td>B.Tech/B.E.</td>\n",
              "      <td>information technology</td>\n",
              "      <td>70.00</td>\n",
              "      <td>64</td>\n",
              "      <td>0</td>\n",
              "      <td>Uttar Pradesh</td>\n",
              "      <td>2014</td>\n",
              "      <td>615</td>\n",
              "      <td>545</td>\n",
              "      <td>370</td>\n",
              "      <td>0.450877</td>\n",
              "      <td>395</td>\n",
              "      <td>-1</td>\n",
              "      <td>-1</td>\n",
              "      <td>-1</td>\n",
              "      <td>-1</td>\n",
              "      <td>-1</td>\n",
              "      <td>-1</td>\n",
              "      <td>0.2718</td>\n",
              "      <td>1.7109</td>\n",
              "      <td>0.1637</td>\n",
              "      <td>-0.8682</td>\n",
              "      <td>0.6721</td>\n",
              "      <td>1</td>\n",
              "    </tr>\n",
              "    <tr>\n",
              "      <th>3</th>\n",
              "      <td>267447</td>\n",
              "      <td>m</td>\n",
              "      <td>1989-12-05</td>\n",
              "      <td>85.6</td>\n",
              "      <td>cbse</td>\n",
              "      <td>2007</td>\n",
              "      <td>83.6</td>\n",
              "      <td>cbse</td>\n",
              "      <td>6920</td>\n",
              "      <td>1</td>\n",
              "      <td>B.Tech/B.E.</td>\n",
              "      <td>computer engineering</td>\n",
              "      <td>74.64</td>\n",
              "      <td>6920</td>\n",
              "      <td>1</td>\n",
              "      <td>Delhi</td>\n",
              "      <td>2011</td>\n",
              "      <td>635</td>\n",
              "      <td>585</td>\n",
              "      <td>625</td>\n",
              "      <td>0.974396</td>\n",
              "      <td>615</td>\n",
              "      <td>-1</td>\n",
              "      <td>-1</td>\n",
              "      <td>-1</td>\n",
              "      <td>-1</td>\n",
              "      <td>-1</td>\n",
              "      <td>-1</td>\n",
              "      <td>0.0464</td>\n",
              "      <td>0.3448</td>\n",
              "      <td>-0.3440</td>\n",
              "      <td>-0.4078</td>\n",
              "      <td>-0.9194</td>\n",
              "      <td>1</td>\n",
              "    </tr>\n",
              "  </tbody>\n",
              "</table>\n",
              "</div>"
            ],
            "text/plain": [
              "       ID Gender        DOB  ...  nueroticism openess_to_experience  High-Salary\n",
              "0  203097      f 1990-02-19  ...       1.3549               -0.4455            1\n",
              "1  579905      m 1989-10-04  ...      -0.1076                0.8637            1\n",
              "2  810601      f 1992-08-03  ...      -0.8682                0.6721            1\n",
              "3  267447      m 1989-12-05  ...      -0.4078               -0.9194            1\n",
              "\n",
              "[4 rows x 34 columns]"
            ]
          },
          "metadata": {
            "tags": []
          },
          "execution_count": 33
        }
      ]
    },
    {
      "cell_type": "code",
      "metadata": {
        "colab": {
          "base_uri": "https://localhost:8080/"
        },
        "id": "qLN5I0DrjvPA",
        "outputId": "f0fe216e-776f-4e86-9cf2-73098d315572"
      },
      "source": [
        "print(\"shape of data: \",df.shape)"
      ],
      "execution_count": 34,
      "outputs": [
        {
          "output_type": "stream",
          "text": [
            "shape of data:  (3998, 34)\n"
          ],
          "name": "stdout"
        }
      ]
    },
    {
      "cell_type": "markdown",
      "metadata": {
        "id": "jvMzBaPf0JJx"
      },
      "source": [
        "**data informtaion**"
      ]
    },
    {
      "cell_type": "code",
      "metadata": {
        "colab": {
          "base_uri": "https://localhost:8080/"
        },
        "id": "zIybI1E30IRm",
        "outputId": "2d1ceeb3-7ebf-4adf-933c-643aaa04775b"
      },
      "source": [
        "df.info()"
      ],
      "execution_count": 35,
      "outputs": [
        {
          "output_type": "stream",
          "text": [
            "<class 'pandas.core.frame.DataFrame'>\n",
            "RangeIndex: 3998 entries, 0 to 3997\n",
            "Data columns (total 34 columns):\n",
            " #   Column                 Non-Null Count  Dtype         \n",
            "---  ------                 --------------  -----         \n",
            " 0   ID                     3998 non-null   int64         \n",
            " 1   Gender                 3998 non-null   object        \n",
            " 2   DOB                    3998 non-null   datetime64[ns]\n",
            " 3   10percentage           3998 non-null   float64       \n",
            " 4   10board                3998 non-null   object        \n",
            " 5   12graduation           3998 non-null   int64         \n",
            " 6   12percentage           3998 non-null   float64       \n",
            " 7   12board                3998 non-null   object        \n",
            " 8   CollegeID              3998 non-null   int64         \n",
            " 9   CollegeTier            3998 non-null   int64         \n",
            " 10  Degree                 3998 non-null   object        \n",
            " 11  Specialization         3998 non-null   object        \n",
            " 12  collegeGPA             3998 non-null   float64       \n",
            " 13  CollegeCityID          3998 non-null   int64         \n",
            " 14  CollegeCityTier        3998 non-null   int64         \n",
            " 15  CollegeState           3998 non-null   object        \n",
            " 16  GraduationYear         3998 non-null   int64         \n",
            " 17  English                3998 non-null   int64         \n",
            " 18  Logical                3998 non-null   int64         \n",
            " 19  Quant                  3998 non-null   int64         \n",
            " 20  Domain                 3998 non-null   float64       \n",
            " 21  ComputerProgramming    3998 non-null   int64         \n",
            " 22  ElectronicsAndSemicon  3998 non-null   int64         \n",
            " 23  ComputerScience        3998 non-null   int64         \n",
            " 24  MechanicalEngg         3998 non-null   int64         \n",
            " 25  ElectricalEngg         3998 non-null   int64         \n",
            " 26  TelecomEngg            3998 non-null   int64         \n",
            " 27  CivilEngg              3998 non-null   int64         \n",
            " 28  conscientiousness      3998 non-null   float64       \n",
            " 29  agreeableness          3998 non-null   float64       \n",
            " 30  extraversion           3998 non-null   float64       \n",
            " 31  nueroticism            3998 non-null   float64       \n",
            " 32  openess_to_experience  3998 non-null   float64       \n",
            " 33  High-Salary            3998 non-null   int64         \n",
            "dtypes: datetime64[ns](1), float64(9), int64(18), object(6)\n",
            "memory usage: 1.0+ MB\n"
          ],
          "name": "stdout"
        }
      ]
    },
    {
      "cell_type": "markdown",
      "metadata": {
        "id": "JppU5efHTcaS"
      },
      "source": [
        "**-Checking class Imbalance**"
      ]
    },
    {
      "cell_type": "markdown",
      "metadata": {
        "id": "iqhp2SpCkmgM"
      },
      "source": [
        "**Here both classes 0 and 1 denotes non-high, high salary respectively are in balanced ration of 53:46 so their will be no biasing toward any of the class while training the model. Hence class is balanced.**"
      ]
    },
    {
      "cell_type": "code",
      "metadata": {
        "colab": {
          "base_uri": "https://localhost:8080/",
          "height": 298
        },
        "id": "Xrer0RQLTQfI",
        "outputId": "bfdd6bca-25e6-4b88-d13e-679835da1a19"
      },
      "source": [
        "\n",
        "total_count =df['High-Salary'].value_counts()\n",
        "print(total_count)\n",
        "colors=['violet','pink']\n",
        "activities = ['0','1 '] \n",
        "plt.pie(total_count, labels = activities, colors=colors,  \n",
        "        startangle=90, shadow = True, explode = (0, 0), \n",
        "        radius = 1.2, autopct = '%1.1f%%') \n",
        "plt.legend() \n",
        "plt.show()"
      ],
      "execution_count": 36,
      "outputs": [
        {
          "output_type": "stream",
          "text": [
            "1    2135\n",
            "0    1863\n",
            "Name: High-Salary, dtype: int64\n"
          ],
          "name": "stdout"
        },
        {
          "output_type": "display_data",
          "data": {
            "image/png": "[encoded data removed]",
            "text/plain": [
              "<Figure size 432x288 with 1 Axes>"
            ]
          },
          "metadata": {
            "tags": []
          }
        }
      ]
    },
    {
      "cell_type": "markdown",
      "metadata": {
        "id": "CLCNcpTHlTGS"
      },
      "source": [
        "**-Correlation between the columns**"
      ]
    },
    {
      "cell_type": "markdown",
      "metadata": {
        "id": "zieOBeUzlanf"
      },
      "source": [
        "**Here we check whether is their any columns which are similar to each other so we can drop if two column are same. But in below heatmap no one are correlated to each other as no one is having light color map which conclude that no two columns are correlate to drop, not even they relate to 90%**"
      ]
    },
    {
      "cell_type": "code",
      "metadata": {
        "colab": {
          "base_uri": "https://localhost:8080/",
          "height": 594
        },
        "id": "H4DaQBBITyj8",
        "outputId": "1654c3d1-be77-4688-feb0-bd7f202c9cd2"
      },
      "source": [
        "# heat map to show the correlation between the columns\n",
        "\n",
        "plt.figure(figsize=(8,8))\n",
        "sns.heatmap(df.corr(),annot=False)\n",
        "plt.ioff()\n",
        "plt.savefig('corr.png')"
      ],
      "execution_count": 37,
      "outputs": [
        {
          "output_type": "display_data",
          "data": {
            "image/png": "[encoded data removed]",
            "text/plain": [
              "<Figure size 576x576 with 2 Axes>"
            ]
          },
          "metadata": {
            "tags": [],
            "needs_background": "light"
          }
        }
      ]
    },
    {
      "cell_type": "markdown",
      "metadata": {
        "id": "_O3q0zmEm58D"
      },
      "source": [
        "**-Histogram plot for every attribute.**"
      ]
    },
    {
      "cell_type": "markdown",
      "metadata": {
        "id": "Lzul79bsmwS7"
      },
      "source": [
        "**A histogram divides the values within a numerical variable into “bins”, and counts the number of observations that fall into each bin. By visualizing these binned counts in a columnar fashion, we can obtain a very immediate and intuitive sense of the distribution of values within a variable.**"
      ]
    },
    {
      "cell_type": "code",
      "metadata": {
        "colab": {
          "base_uri": "https://localhost:8080/",
          "height": 1000
        },
        "id": "1nCZG1McVfzq",
        "outputId": "dafa168d-674d-420f-e67b-fa30da477934"
      },
      "source": [
        "#histogram for every attribute\n",
        "df.hist(figsize = (20, 20))\n",
        "plt.show()"
      ],
      "execution_count": 38,
      "outputs": [
        {
          "output_type": "display_data",
          "data": {
            "image/png": "[encoded data removed]",
            "text/plain": [
              "<Figure size 1440x1440 with 30 Axes>"
            ]
          },
          "metadata": {
            "tags": [],
            "needs_background": "light"
          }
        }
      ]
    },
    {
      "cell_type": "markdown",
      "metadata": {
        "id": "0sgNk0Flnbt1"
      },
      "source": [
        "**Preprocessing**"
      ]
    },
    {
      "cell_type": "markdown",
      "metadata": {
        "id": "MitKhaaCJHjM"
      },
      "source": [
        "**-Removing target column from the dataset and put it in one variable so can use furthur.**"
      ]
    },
    {
      "cell_type": "code",
      "metadata": {
        "id": "pp8hAlmKXWlZ"
      },
      "source": [
        "df_label=df['High-Salary']\n",
        "df=df.drop(['High-Salary'], axis=1)"
      ],
      "execution_count": 39,
      "outputs": []
    },
    {
      "cell_type": "code",
      "metadata": {
        "colab": {
          "base_uri": "https://localhost:8080/"
        },
        "id": "3pBPQk_kXNOi",
        "outputId": "fc03978a-86e6-4ae2-8b21-f0a2ec0cc7a7"
      },
      "source": [
        "print(\"Column names are:\",list(df.columns))\n",
        "print(\"Total Columns currently are after removing target column: \",len(df.columns))"
      ],
      "execution_count": 40,
      "outputs": [
        {
          "output_type": "stream",
          "text": [
            "Column names are: ['ID', 'Gender', 'DOB', '10percentage', '10board', '12graduation', '12percentage', '12board', 'CollegeID', 'CollegeTier', 'Degree', 'Specialization', 'collegeGPA', 'CollegeCityID', 'CollegeCityTier', 'CollegeState', 'GraduationYear', 'English', 'Logical', 'Quant', 'Domain', 'ComputerProgramming', 'ElectronicsAndSemicon', 'ComputerScience', 'MechanicalEngg', 'ElectricalEngg', 'TelecomEngg', 'CivilEngg', 'conscientiousness', 'agreeableness', 'extraversion', 'nueroticism', 'openess_to_experience']\n",
            "Total Columns currently are after removing target column:  33\n"
          ],
          "name": "stdout"
        }
      ]
    },
    {
      "cell_type": "markdown",
      "metadata": {
        "id": "urVZDozOCySf"
      },
      "source": [
        "**-Encoding of catagory attributes.**"
      ]
    },
    {
      "cell_type": "markdown",
      "metadata": {
        "id": "pL7mLC8aoI4l"
      },
      "source": [
        "**Here I encoded all the catagorical columns into the number form by assigning numbers to the values as per they are uniquely present. Encoded columns are: Gender, 10borad, Degree, Specialization, CollegeState, 12board.**"
      ]
    },
    {
      "cell_type": "code",
      "metadata": {
        "id": "8uGMZTnohE5Y"
      },
      "source": [
        "df['Gender']=df['Gender'].astype('category').cat.codes\n",
        "# df['DOB']=df['DOB'].astype('category')\n",
        "df['10board']=df['10board'].astype('category').cat.codes\n",
        "df['Degree']=df['Degree'].astype('category').cat.codes\n",
        "df['Specialization']=df['Specialization'].astype('category').cat.codes\n",
        "df['CollegeState']=df['CollegeState'].astype('category').cat.codes\n",
        "df['12board']=df['12board'].astype('category').cat.codes"
      ],
      "execution_count": 41,
      "outputs": []
    },
    {
      "cell_type": "markdown",
      "metadata": {
        "id": "O1N2OemOFQT6"
      },
      "source": [
        "**-Here I tried to take only years of date of birth and then label encode the DOB column.**:"
      ]
    },
    {
      "cell_type": "code",
      "metadata": {
        "id": "0uftUA-RFPSW"
      },
      "source": [
        "df['DOB'] =[int(dt.split('-')[0]) for dt in df['DOB'].dt.strftime('%Y-%m-%d')]"
      ],
      "execution_count": 42,
      "outputs": []
    },
    {
      "cell_type": "code",
      "metadata": {
        "id": "J1oEbnTAFoHj"
      },
      "source": [
        "df['DOB']=df['DOB'].astype('category').cat.codes"
      ],
      "execution_count": 43,
      "outputs": []
    },
    {
      "cell_type": "markdown",
      "metadata": {
        "id": "aw6Sl7qcp1jc"
      },
      "source": [
        "**-These is Final data after above preprocessing.**\n",
        "**-But after applying them on logistic regression accuracy is not increasing thats why we are dropping few column like '10board','12board','DOB', becuase their presence doesnt affect the accuracy as much.**"
      ]
    },
    {
      "cell_type": "code",
      "metadata": {
        "colab": {
          "base_uri": "https://localhost:8080/",
          "height": 215
        },
        "id": "V9hpkQI3heoL",
        "outputId": "6336bc93-64ae-48e7-cf6b-305677534607"
      },
      "source": [
        "df.head()"
      ],
      "execution_count": 44,
      "outputs": [
        {
          "output_type": "execute_result",
          "data": {
            "text/html": [
              "<div>\n",
              "<style scoped>\n",
              "    .dataframe tbody tr th:only-of-type {\n",
              "        vertical-align: middle;\n",
              "    }\n",
              "\n",
              "    .dataframe tbody tr th {\n",
              "        vertical-align: top;\n",
              "    }\n",
              "\n",
              "    .dataframe thead th {\n",
              "        text-align: right;\n",
              "    }\n",
              "</style>\n",
              "<table border=\"1\" class=\"dataframe\">\n",
              "  <thead>\n",
              "    <tr style=\"text-align: right;\">\n",
              "      <th></th>\n",
              "      <th>ID</th>\n",
              "      <th>Gender</th>\n",
              "      <th>DOB</th>\n",
              "      <th>10percentage</th>\n",
              "      <th>10board</th>\n",
              "      <th>12graduation</th>\n",
              "      <th>12percentage</th>\n",
              "      <th>12board</th>\n",
              "      <th>CollegeID</th>\n",
              "      <th>CollegeTier</th>\n",
              "      <th>Degree</th>\n",
              "      <th>Specialization</th>\n",
              "      <th>collegeGPA</th>\n",
              "      <th>CollegeCityID</th>\n",
              "      <th>CollegeCityTier</th>\n",
              "      <th>CollegeState</th>\n",
              "      <th>GraduationYear</th>\n",
              "      <th>English</th>\n",
              "      <th>Logical</th>\n",
              "      <th>Quant</th>\n",
              "      <th>Domain</th>\n",
              "      <th>ComputerProgramming</th>\n",
              "      <th>ElectronicsAndSemicon</th>\n",
              "      <th>ComputerScience</th>\n",
              "      <th>MechanicalEngg</th>\n",
              "      <th>ElectricalEngg</th>\n",
              "      <th>TelecomEngg</th>\n",
              "      <th>CivilEngg</th>\n",
              "      <th>conscientiousness</th>\n",
              "      <th>agreeableness</th>\n",
              "      <th>extraversion</th>\n",
              "      <th>nueroticism</th>\n",
              "      <th>openess_to_experience</th>\n",
              "    </tr>\n",
              "  </thead>\n",
              "  <tbody>\n",
              "    <tr>\n",
              "      <th>0</th>\n",
              "      <td>203097</td>\n",
              "      <td>0</td>\n",
              "      <td>10</td>\n",
              "      <td>84.3</td>\n",
              "      <td>43</td>\n",
              "      <td>2007</td>\n",
              "      <td>95.8</td>\n",
              "      <td>47</td>\n",
              "      <td>1141</td>\n",
              "      <td>2</td>\n",
              "      <td>0</td>\n",
              "      <td>10</td>\n",
              "      <td>78.00</td>\n",
              "      <td>1141</td>\n",
              "      <td>0</td>\n",
              "      <td>0</td>\n",
              "      <td>2011</td>\n",
              "      <td>515</td>\n",
              "      <td>585</td>\n",
              "      <td>525</td>\n",
              "      <td>0.635979</td>\n",
              "      <td>445</td>\n",
              "      <td>-1</td>\n",
              "      <td>-1</td>\n",
              "      <td>-1</td>\n",
              "      <td>-1</td>\n",
              "      <td>-1</td>\n",
              "      <td>-1</td>\n",
              "      <td>0.9737</td>\n",
              "      <td>0.8128</td>\n",
              "      <td>0.5269</td>\n",
              "      <td>1.35490</td>\n",
              "      <td>-0.4455</td>\n",
              "    </tr>\n",
              "    <tr>\n",
              "      <th>1</th>\n",
              "      <td>579905</td>\n",
              "      <td>1</td>\n",
              "      <td>9</td>\n",
              "      <td>85.4</td>\n",
              "      <td>60</td>\n",
              "      <td>2007</td>\n",
              "      <td>85.0</td>\n",
              "      <td>77</td>\n",
              "      <td>5807</td>\n",
              "      <td>2</td>\n",
              "      <td>0</td>\n",
              "      <td>21</td>\n",
              "      <td>70.06</td>\n",
              "      <td>5807</td>\n",
              "      <td>0</td>\n",
              "      <td>13</td>\n",
              "      <td>2012</td>\n",
              "      <td>695</td>\n",
              "      <td>610</td>\n",
              "      <td>780</td>\n",
              "      <td>0.960603</td>\n",
              "      <td>-1</td>\n",
              "      <td>466</td>\n",
              "      <td>-1</td>\n",
              "      <td>-1</td>\n",
              "      <td>-1</td>\n",
              "      <td>-1</td>\n",
              "      <td>-1</td>\n",
              "      <td>-0.7335</td>\n",
              "      <td>0.3789</td>\n",
              "      <td>1.2396</td>\n",
              "      <td>-0.10760</td>\n",
              "      <td>0.8637</td>\n",
              "    </tr>\n",
              "    <tr>\n",
              "      <th>2</th>\n",
              "      <td>810601</td>\n",
              "      <td>0</td>\n",
              "      <td>12</td>\n",
              "      <td>85.0</td>\n",
              "      <td>60</td>\n",
              "      <td>2010</td>\n",
              "      <td>68.2</td>\n",
              "      <td>77</td>\n",
              "      <td>64</td>\n",
              "      <td>2</td>\n",
              "      <td>0</td>\n",
              "      <td>33</td>\n",
              "      <td>70.00</td>\n",
              "      <td>64</td>\n",
              "      <td>0</td>\n",
              "      <td>23</td>\n",
              "      <td>2014</td>\n",
              "      <td>615</td>\n",
              "      <td>545</td>\n",
              "      <td>370</td>\n",
              "      <td>0.450877</td>\n",
              "      <td>395</td>\n",
              "      <td>-1</td>\n",
              "      <td>-1</td>\n",
              "      <td>-1</td>\n",
              "      <td>-1</td>\n",
              "      <td>-1</td>\n",
              "      <td>-1</td>\n",
              "      <td>0.2718</td>\n",
              "      <td>1.7109</td>\n",
              "      <td>0.1637</td>\n",
              "      <td>-0.86820</td>\n",
              "      <td>0.6721</td>\n",
              "    </tr>\n",
              "    <tr>\n",
              "      <th>3</th>\n",
              "      <td>267447</td>\n",
              "      <td>1</td>\n",
              "      <td>9</td>\n",
              "      <td>85.6</td>\n",
              "      <td>60</td>\n",
              "      <td>2007</td>\n",
              "      <td>83.6</td>\n",
              "      <td>77</td>\n",
              "      <td>6920</td>\n",
              "      <td>1</td>\n",
              "      <td>0</td>\n",
              "      <td>10</td>\n",
              "      <td>74.64</td>\n",
              "      <td>6920</td>\n",
              "      <td>1</td>\n",
              "      <td>4</td>\n",
              "      <td>2011</td>\n",
              "      <td>635</td>\n",
              "      <td>585</td>\n",
              "      <td>625</td>\n",
              "      <td>0.974396</td>\n",
              "      <td>615</td>\n",
              "      <td>-1</td>\n",
              "      <td>-1</td>\n",
              "      <td>-1</td>\n",
              "      <td>-1</td>\n",
              "      <td>-1</td>\n",
              "      <td>-1</td>\n",
              "      <td>0.0464</td>\n",
              "      <td>0.3448</td>\n",
              "      <td>-0.3440</td>\n",
              "      <td>-0.40780</td>\n",
              "      <td>-0.9194</td>\n",
              "    </tr>\n",
              "    <tr>\n",
              "      <th>4</th>\n",
              "      <td>343523</td>\n",
              "      <td>1</td>\n",
              "      <td>11</td>\n",
              "      <td>78.0</td>\n",
              "      <td>60</td>\n",
              "      <td>2008</td>\n",
              "      <td>76.8</td>\n",
              "      <td>77</td>\n",
              "      <td>11368</td>\n",
              "      <td>2</td>\n",
              "      <td>0</td>\n",
              "      <td>21</td>\n",
              "      <td>73.90</td>\n",
              "      <td>11368</td>\n",
              "      <td>0</td>\n",
              "      <td>23</td>\n",
              "      <td>2012</td>\n",
              "      <td>545</td>\n",
              "      <td>625</td>\n",
              "      <td>465</td>\n",
              "      <td>0.124502</td>\n",
              "      <td>-1</td>\n",
              "      <td>233</td>\n",
              "      <td>-1</td>\n",
              "      <td>-1</td>\n",
              "      <td>-1</td>\n",
              "      <td>-1</td>\n",
              "      <td>-1</td>\n",
              "      <td>-0.8810</td>\n",
              "      <td>-0.2793</td>\n",
              "      <td>-1.0697</td>\n",
              "      <td>0.09163</td>\n",
              "      <td>-0.1295</td>\n",
              "    </tr>\n",
              "  </tbody>\n",
              "</table>\n",
              "</div>"
            ],
            "text/plain": [
              "       ID  Gender  DOB  ...  extraversion  nueroticism  openess_to_experience\n",
              "0  203097       0   10  ...        0.5269      1.35490                -0.4455\n",
              "1  579905       1    9  ...        1.2396     -0.10760                 0.8637\n",
              "2  810601       0   12  ...        0.1637     -0.86820                 0.6721\n",
              "3  267447       1    9  ...       -0.3440     -0.40780                -0.9194\n",
              "4  343523       1   11  ...       -1.0697      0.09163                -0.1295\n",
              "\n",
              "[5 rows x 33 columns]"
            ]
          },
          "metadata": {
            "tags": []
          },
          "execution_count": 44
        }
      ]
    },
    {
      "cell_type": "markdown",
      "metadata": {
        "id": "H3_ty1R0C9VE"
      },
      "source": [
        "**-Drop '10board','12board','DOB' columns:**"
      ]
    },
    {
      "cell_type": "code",
      "metadata": {
        "id": "SfMbUfLQisWQ"
      },
      "source": [
        "df=df.drop(['10board','12board','DOB'],axis=1)"
      ],
      "execution_count": 45,
      "outputs": []
    },
    {
      "cell_type": "markdown",
      "metadata": {
        "id": "9y1NM1sFT3mj"
      },
      "source": [
        "**With Scaling**"
      ]
    },
    {
      "cell_type": "markdown",
      "metadata": {
        "id": "Jp_ZB5Buq-LA"
      },
      "source": [
        "**-Here I have done minmax sacling which transformed the values in between 0 to 1, and then futhur we can apply feature selection.**"
      ]
    },
    {
      "cell_type": "code",
      "metadata": {
        "id": "Ta5YHIx7FJBG"
      },
      "source": [
        "scaler = MinMaxScaler().fit(df)\n",
        "df=scaler.transform(df)"
      ],
      "execution_count": 46,
      "outputs": []
    },
    {
      "cell_type": "markdown",
      "metadata": {
        "id": "E_Kt9MBerKhC"
      },
      "source": [
        "**Feature selection:**"
      ]
    },
    {
      "cell_type": "markdown",
      "metadata": {
        "id": "t5RNbJMkrQoU"
      },
      "source": [
        "**-select k best feature selection is applied with which 20  features are taken out.**"
      ]
    },
    {
      "cell_type": "code",
      "metadata": {
        "id": "8AxeG2R2T9PI"
      },
      "source": [
        "df=SelectKBest(score_func=f_regression,k=20).fit_transform(df,df_label)"
      ],
      "execution_count": 47,
      "outputs": []
    },
    {
      "cell_type": "markdown",
      "metadata": {
        "id": "MAsaRHnhrfXq"
      },
      "source": [
        "**Train-test split:**"
      ]
    },
    {
      "cell_type": "markdown",
      "metadata": {
        "id": "lrhrhbZjrkMB"
      },
      "source": [
        "**60:40, 70:30, 90:10**"
      ]
    },
    {
      "cell_type": "code",
      "metadata": {
        "id": "B29VEnU_bH-h"
      },
      "source": [
        "X_train, X_test, y_train, y_test = train_test_split(df, df_label, test_size=0.3, random_state=10)"
      ],
      "execution_count": 48,
      "outputs": []
    },
    {
      "cell_type": "code",
      "metadata": {
        "id": "6lfUfD64cemN",
        "colab": {
          "base_uri": "https://localhost:8080/"
        },
        "outputId": "45e0a54d-9489-4654-949b-1a90a1e572e0"
      },
      "source": [
        "print(X_train.shape)\n",
        "print(X_test.shape)\n",
        "print(y_train.shape)\n",
        "print(y_test.shape)"
      ],
      "execution_count": 49,
      "outputs": [
        {
          "output_type": "stream",
          "text": [
            "(2798, 20)\n",
            "(1200, 20)\n",
            "(2798,)\n",
            "(1200,)\n"
          ],
          "name": "stdout"
        }
      ]
    },
    {
      "cell_type": "markdown",
      "metadata": {
        "id": "QOuw6cPeyf3J"
      },
      "source": [
        "**MODEL-**"
      ]
    },
    {
      "cell_type": "markdown",
      "metadata": {
        "id": "KHVJ_P85sIET"
      },
      "source": [
        "**-Grid search cross validation:**"
      ]
    },
    {
      "cell_type": "markdown",
      "metadata": {
        "id": "8aABMVtAsN2Y"
      },
      "source": [
        "**-Here for tunning the parameters of logistic regression, we used gridsearchcv**"
      ]
    },
    {
      "cell_type": "code",
      "metadata": {
        "id": "fgNOetyuK50A"
      },
      "source": [
        "grid={\"C\":[0.5,1,1.5,2,10,10.5,11,11.5], \"penalty\":[\"l1\",\"l2\"]}\n",
        "logreg= LogisticRegression(random_state=10,solver='liblinear')\n",
        "logreg_cv=GridSearchCV(logreg,grid,cv=10)\n",
        "logreg_cv.fit(X_train,y_train)\n",
        "pre=logreg_cv.predict(X_test)"
      ],
      "execution_count": 50,
      "outputs": []
    },
    {
      "cell_type": "code",
      "metadata": {
        "id": "3aaGLhBw6UiA"
      },
      "source": [
        ""
      ],
      "execution_count": 50,
      "outputs": []
    },
    {
      "cell_type": "code",
      "metadata": {
        "colab": {
          "base_uri": "https://localhost:8080/"
        },
        "id": "jRDngDRXMkAp",
        "outputId": "d3f4efca-65ea-4ab0-f91b-c20fcf39af2b"
      },
      "source": [
        "print(\"tuned hpyerparameters :(best parameters) \",logreg_cv.best_params_)"
      ],
      "execution_count": 51,
      "outputs": [
        {
          "output_type": "stream",
          "text": [
            "tuned hpyerparameters :(best parameters)  {'C': 1, 'penalty': 'l1'}\n"
          ],
          "name": "stdout"
        }
      ]
    },
    {
      "cell_type": "code",
      "metadata": {
        "id": "kCOCKD7HeT8f",
        "colab": {
          "base_uri": "https://localhost:8080/"
        },
        "outputId": "77a53e61-0046-415d-ff9a-19f9e13e6f54"
      },
      "source": [
        "print(\"crossvalidation score : \",accuracy_score(y_train, logreg_cv.predict(X_train)))"
      ],
      "execution_count": 52,
      "outputs": [
        {
          "output_type": "stream",
          "text": [
            "crossvalidation score :  0.718012866333095\n"
          ],
          "name": "stdout"
        }
      ]
    },
    {
      "cell_type": "code",
      "metadata": {
        "id": "Ff1vPZC5dgUi",
        "colab": {
          "base_uri": "https://localhost:8080/"
        },
        "outputId": "5d9383e5-faf8-4dd8-8bf9-7fbfaa5c7af3"
      },
      "source": [
        "print(\"Test data Accuracy: \",accuracy_score(y_test, pre))"
      ],
      "execution_count": 53,
      "outputs": [
        {
          "output_type": "stream",
          "text": [
            "Test data Accuracy:  0.7383333333333333\n"
          ],
          "name": "stdout"
        }
      ]
    },
    {
      "cell_type": "code",
      "metadata": {
        "id": "_P6Z1XjAduQW",
        "colab": {
          "base_uri": "https://localhost:8080/"
        },
        "outputId": "68736351-ba6a-4b99-e3a2-4c226c79b24f"
      },
      "source": [
        "print(\"2D-Confusion Matrix\\n\")\n",
        "cm = confusion_matrix(y_test, pre)\n",
        "print(cm)"
      ],
      "execution_count": 54,
      "outputs": [
        {
          "output_type": "stream",
          "text": [
            "2D-Confusion Matrix\n",
            "\n",
            "[[405 177]\n",
            " [137 481]]\n"
          ],
          "name": "stdout"
        }
      ]
    },
    {
      "cell_type": "code",
      "metadata": {
        "colab": {
          "base_uri": "https://localhost:8080/",
          "height": 483
        },
        "id": "8Mg2HtbEhKvF",
        "outputId": "9a16ddf2-081a-4f3a-a071-56e23c88ab11"
      },
      "source": [
        "skplt.metrics.plot_confusion_matrix(\n",
        "    y_test, \n",
        "    pre,\n",
        "    figsize=(8,8))"
      ],
      "execution_count": 55,
      "outputs": [
        {
          "output_type": "execute_result",
          "data": {
            "text/plain": [
              "<matplotlib.axes._subplots.AxesSubplot at 0x7f08aaa0f898>"
            ]
          },
          "metadata": {
            "tags": []
          },
          "execution_count": 55
        },
        {
          "output_type": "display_data",
          "data": {
            "image/png": "[encoded data removed]",
            "text/plain": [
              "<Figure size 576x576 with 2 Axes>"
            ]
          },
          "metadata": {
            "tags": [],
            "needs_background": "light"
          }
        }
      ]
    },
    {
      "cell_type": "markdown",
      "metadata": {
        "id": "3bE_6R2QbN5o"
      },
      "source": [
        "**Class wise accuracy:**"
      ]
    },
    {
      "cell_type": "code",
      "metadata": {
        "colab": {
          "base_uri": "https://localhost:8080/"
        },
        "id": "ckKh51DqbMkD",
        "outputId": "dfa28c3a-979c-446d-d502-b1fb9e93e73d"
      },
      "source": [
        "\n",
        "cm=cm.astype('float')/cm.sum(axis=1)[:,np.newaxis]\n",
        "print(\"Class 0 accurcay :\",cm.diagonal()[0], \", Class  1 accurcay: \",cm.diagonal()[1])"
      ],
      "execution_count": 56,
      "outputs": [
        {
          "output_type": "stream",
          "text": [
            "Class 0 accurcay : 0.6958762886597938 , Class  1 accurcay:  0.7783171521035599\n"
          ],
          "name": "stdout"
        }
      ]
    },
    {
      "cell_type": "code",
      "metadata": {
        "id": "SIWF0GtXiE2H"
      },
      "source": [
        "def Accuracy(tp,tn,fp,fn):\n",
        "  if (tp+tn+fp+fn)!=0:\n",
        "    acc=(tp+tn)/(tp+tn+fp+fn)\n",
        "  else:\n",
        "    acc=0\n",
        "  return acc\n",
        "def Sensitivity(tp,tn,fp,fn):\n",
        "  if (tp+fn)!=0:\n",
        "    sen=tp/(tp+fn)\n",
        "  else:\n",
        "    sen=0\n",
        "  return sen\n",
        "def Specificity(tp,tn,fp,fn):\n",
        "  if (tn+fp)!=0:\n",
        "   spec=tn/(tn+fp)\n",
        "  else:\n",
        "    spec=0\n",
        "  return spec"
      ],
      "execution_count": 57,
      "outputs": []
    },
    {
      "cell_type": "code",
      "metadata": {
        "colab": {
          "base_uri": "https://localhost:8080/"
        },
        "id": "khbN0IlWhyd-",
        "outputId": "fea054eb-ad4c-4eb4-d625-1df1d9bb01ee"
      },
      "source": [
        "tn, fp, fn, tp = confusion_matrix(y_test, pre).ravel()\n",
        "print(\"--------------analysis on test data------------\")\n",
        "print(\"Accuracy: \",Accuracy(tp,tn,fp,fn))\n",
        "print(\"Sensitivity: \",Sensitivity(tp,tn,fp,fn))\n",
        "print(\"Specificity:\",Specificity(tp,tn,fp,fn))"
      ],
      "execution_count": 58,
      "outputs": [
        {
          "output_type": "stream",
          "text": [
            "--------------analysis on test data------------\n",
            "Accuracy:  0.7383333333333333\n",
            "Sensitivity:  0.7783171521035599\n",
            "Specificity: 0.6958762886597938\n"
          ],
          "name": "stdout"
        }
      ]
    },
    {
      "cell_type": "code",
      "metadata": {
        "id": "Wt2S2btuibb_"
      },
      "source": [
        ""
      ],
      "execution_count": 58,
      "outputs": []
    }
  ]
}