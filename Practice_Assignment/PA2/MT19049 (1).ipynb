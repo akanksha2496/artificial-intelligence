{
  "nbformat": 4,
  "nbformat_minor": 0,
  "metadata": {
    "colab": {
      "name": "MT19049.ipynb",
      "provenance": [],
      "collapsed_sections": []
    },
    "kernelspec": {
      "name": "python3",
      "display_name": "Python 3"
    }
  },
  "cells": [
    {
      "cell_type": "code",
      "metadata": {
        "id": "JVscI9uTuoAL",
        "outputId": "88eda206-34c4-4487-924c-9b90d2713acb",
        "colab": {
          "base_uri": "https://localhost:8080/"
        }
      },
      "source": [
        "pip install durable_rules\n"
      ],
      "execution_count": 1,
      "outputs": [
        {
          "output_type": "stream",
          "text": [
            "Requirement already satisfied: durable_rules in /usr/local/lib/python3.6/dist-packages (2.0.28)\n"
          ],
          "name": "stdout"
        }
      ]
    },
    {
      "cell_type": "code",
      "metadata": {
        "id": "krPHh-QzupnW"
      },
      "source": [
        "import durable_rules_engine\n",
        "from durable.lang import *"
      ],
      "execution_count": 2,
      "outputs": []
    },
    {
      "cell_type": "code",
      "metadata": {
        "id": "EHPhlJRr34Xv"
      },
      "source": [
        "import durable_rules_engine\n",
        "from durable.lang import *\n",
        "\n",
        "with ruleset('course1'):\n",
        "    # will be triggered by 'interests' facts\n",
        "    @when_all((m.area == 'text data') & (m.type == 'different languages data') )\n",
        "    def hci(c):\n",
        "        c.assert_fact('opt', { 'field': 'text data field' })\n",
        "\n",
        "with ruleset('course2'):\n",
        "    # will be triggered by 'interests' facts\n",
        "    @when_all((m.area == 'application related') & (m.type == 'computer network') )\n",
        "    def hci(c):\n",
        "        c.assert_fact('opt', { 'field': 'Networking' })\n",
        "\n",
        "with ruleset('course3'):\n",
        "    # will be triggered by 'interests' facts\n",
        "    @when_all((m.area == 'image related applicxation') & (m.type == 'probability') )\n",
        "    def hci(c):\n",
        "        c.assert_fact('opt', { 'field': 'Image data' })\n",
        "\n",
        "\n",
        "with ruleset('course4'):\n",
        "    # will be triggered by 'interests' facts\n",
        "    @when_all((m.area == 'logic thot') & (m.type == 'problem solve') )\n",
        "    def hci(c):\n",
        "        c.assert_fact('opt', { 'field': 'logical' })\n",
        "\n",
        "with ruleset('course5'):\n",
        "    # will be triggered by 'interests' facts\n",
        "    @when_all((m.area == 'time series') & (m.type == 'analysis') )\n",
        "    def hci(c):\n",
        "        c.assert_fact('opt', { 'field': 'data' })\n",
        "\n",
        "with ruleset('opt'):\n",
        "    @when_all((m.field == 'text data field'))\n",
        "    def mathc(d):\n",
        "        d.assert_fact({ 'subject': 'take information retrival' })\n",
        "        d.assert_fact({ 'subject': 'take natural lamnguage processing' })\n",
        "    @when_all((m.field == 'Desigan and algorithm'))\n",
        "    def mathc(d):\n",
        "        d.assert_fact({ 'subject': 'graduate algorithm course' })\n",
        "        d.assert_fact({ 'subject': 'take MAD algo course of algorithm' })\n",
        "\n",
        "    @when_all((m.field == 'Networking'))\n",
        "    def mathc(d):\n",
        "        d.assert_fact({ 'subject': 'take subject of Mobile computing' })\n",
        "        d.assert_fact({ 'subject': 'take subject of computer networks' })\n",
        "\n",
        "    @when_all((m.field == 'Image data'))\n",
        "    def mathc(d):\n",
        "        d.assert_fact({ 'subject': 'computer vision' })\n",
        "        d.assert_fact({ 'subject': 'digital image processing' })\n",
        "\n",
        "    @when_all((m.field == 'data'))\n",
        "    def mathc(d):\n",
        "        d.assert_fact({ 'subject': 'machine learning' })\n",
        "        d.assert_fact({ 'subject': 'statistical machine learning' })\n",
        "\n",
        "    @when_all((m.field == 'logical'))\n",
        "    def mathc(d):\n",
        "        d.assert_fact({ 'subject': 'artificial intelligence' })\n",
        "\n",
        "    @when_all((m.field == 'job'))\n",
        "    def mathc(d):\n",
        "        d.assert_fact({ 'subject': 'psu' })\n",
        "        d.assert_fact({ 'subject': 'private job' })\n",
        "        d.assert_fact({ 'subject': 'goverment' })\n",
        "        \n",
        "    @when_all((m.field == 'hobbies'))\n",
        "    def mathc(d):\n",
        "        d.assert_fact({ 'subject': 'dancing' })\n",
        "        d.assert_fact({ 'subject': 'singing' })\n",
        "        d.assert_fact({ 'subject': 'sports' })\n",
        "        d.assert_fact({ 'subject': 'buisness' })\n",
        "\n",
        "    @when_all(+m.subject)\n",
        "    def output(d):\n",
        "        print('Fact: {0}'.format(d.m.subject))\n",
        "\n",
        "\n"
      ],
      "execution_count": 3,
      "outputs": []
    },
    {
      "cell_type": "code",
      "metadata": {
        "id": "_7tdxQXB34ZQ",
        "outputId": "0a5bacc8-978e-4a3f-ec1b-7449d1dda19c",
        "colab": {
          "base_uri": "https://localhost:8080/"
        }
      },
      "source": [
        "assert_fact('course1', { 'area': 'text data', 'type': 'different languages data' })"
      ],
      "execution_count": 4,
      "outputs": [
        {
          "output_type": "stream",
          "text": [
            "Fact: take natural lamnguage processing\n",
            "Fact: take information retrival\n"
          ],
          "name": "stdout"
        },
        {
          "output_type": "execute_result",
          "data": {
            "text/plain": [
              "{'$s': 1, 'id': 'sid-0', 'sid': '0'}"
            ]
          },
          "metadata": {
            "tags": []
          },
          "execution_count": 4
        }
      ]
    },
    {
      "cell_type": "code",
      "metadata": {
        "id": "0-lV6hun34ce",
        "outputId": "25664847-f021-4da8-9ffb-5a85c5744e98",
        "colab": {
          "base_uri": "https://localhost:8080/"
        }
      },
      "source": [
        "assert_fact('course2', { 'area': 'application related', 'type': 'computer network' })"
      ],
      "execution_count": 5,
      "outputs": [
        {
          "output_type": "stream",
          "text": [
            "Fact: take subject of computer networks\n",
            "Fact: take subject of Mobile computing\n"
          ],
          "name": "stdout"
        },
        {
          "output_type": "execute_result",
          "data": {
            "text/plain": [
              "{'$s': 1, 'id': 'sid-0', 'sid': '0'}"
            ]
          },
          "metadata": {
            "tags": []
          },
          "execution_count": 5
        }
      ]
    },
    {
      "cell_type": "code",
      "metadata": {
        "id": "x1fduULq34fW",
        "outputId": "afcc8609-3a1e-46ba-dd63-8c03fa5ae229",
        "colab": {
          "base_uri": "https://localhost:8080/"
        }
      },
      "source": [
        "assert_fact('course3', { 'area': 'image related applicxation', 'type': 'probability' })"
      ],
      "execution_count": 6,
      "outputs": [
        {
          "output_type": "stream",
          "text": [
            "Fact: digital image processing\n",
            "Fact: computer vision\n"
          ],
          "name": "stdout"
        },
        {
          "output_type": "execute_result",
          "data": {
            "text/plain": [
              "{'$s': 1, 'id': 'sid-0', 'sid': '0'}"
            ]
          },
          "metadata": {
            "tags": []
          },
          "execution_count": 6
        }
      ]
    },
    {
      "cell_type": "code",
      "metadata": {
        "id": "twRUX32lCwBy",
        "outputId": "fc6d87a0-e73d-45cf-9d77-eb151adf7a0c",
        "colab": {
          "base_uri": "https://localhost:8080/"
        }
      },
      "source": [
        "assert_fact('course5', { 'area': 'time series', 'type': 'analysis' })"
      ],
      "execution_count": 8,
      "outputs": [
        {
          "output_type": "stream",
          "text": [
            "Fact: statistical machine learning\n",
            "Fact: machine learning\n"
          ],
          "name": "stdout"
        },
        {
          "output_type": "execute_result",
          "data": {
            "text/plain": [
              "{'$s': 1, 'id': 'sid-0', 'sid': '0'}"
            ]
          },
          "metadata": {
            "tags": []
          },
          "execution_count": 8
        }
      ]
    },
    {
      "cell_type": "code",
      "metadata": {
        "id": "ZtFTtFkiDTwr",
        "outputId": "ccea708d-0192-4387-9819-db2bacf56ab6",
        "colab": {
          "base_uri": "https://localhost:8080/"
        }
      },
      "source": [
        "assert_fact('course4', { 'area': 'logic thot', 'type': 'problem solve' })"
      ],
      "execution_count": 9,
      "outputs": [
        {
          "output_type": "stream",
          "text": [
            "Fact: artificial intelligence\n"
          ],
          "name": "stdout"
        },
        {
          "output_type": "execute_result",
          "data": {
            "text/plain": [
              "{'$s': 1, 'id': 'sid-0', 'sid': '0'}"
            ]
          },
          "metadata": {
            "tags": []
          },
          "execution_count": 9
        }
      ]
    },
    {
      "cell_type": "code",
      "metadata": {
        "id": "0MKvmiGnDkf4"
      },
      "source": [
        ""
      ],
      "execution_count": null,
      "outputs": []
    }
  ]
}